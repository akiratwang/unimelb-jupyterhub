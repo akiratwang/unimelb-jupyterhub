{
 "cells": [
  {
   "cell_type": "markdown",
   "metadata": {},
   "source": [
    "# Groups Demo\n",
    "This demo shows how to use groups in the JupyterHub API with three actions. These groups may be useful for moving students into marking groups. Three likely scenarios are provided.\n",
    "- Query Groups\n",
    "- Create Groups\n",
    "- Add Users\n",
    "- Get List of Users in Groups\n",
    "- Removing Users from Groups\n",
    "- Deleting Groups\n",
    "\n",
    "First, grab our token and API URL."
   ]
  },
  {
   "cell_type": "code",
   "execution_count": null,
   "metadata": {},
   "outputs": [],
   "source": [
    "import requests\n",
    "import os\n",
    "\n",
    "# We reuse the token from the one we're using for the server.\n",
    "token = os.getenv(\"JUPYTERHUB_API_TOKEN\")\n",
    "\n",
    "URL_VAR = \"JUPYTERHUB_API_URL\"\n",
    "api_url = os.getenv(URL_VAR)\n",
    "\n",
    "# The group we'll use for this example\n",
    "GROUP_NAME = \"test_group\""
   ]
  },
  {
   "cell_type": "markdown",
   "metadata": {},
   "source": [
    "Here we check if our group exists and create it if it doesn't."
   ]
  },
  {
   "cell_type": "code",
   "execution_count": null,
   "metadata": {},
   "outputs": [],
   "source": [
    "r = requests.get(api_url + '/groups/' + GROUP_NAME,\n",
    "    headers={\n",
    "             'Authorization': 'token %s' % token,\n",
    "            }\n",
    "    )\n",
    "\n",
    "request_result = r.json()\n",
    "if \"status\" in request_result.keys() and request_result[\"status\"] == 404:\n",
    "    # Group doesn't exist, create it.\n",
    "    r = requests.post(api_url + '/groups/' + GROUP_NAME,\n",
    "        headers={\n",
    "                 'Authorization': 'token %s' % token,\n",
    "                }\n",
    "        )\n",
    "    r.raise_for_status()\n",
    "    group_data = r.json()\n",
    "    print(group_data)\n",
    "else:\n",
    "    print(\"Group already exists.\")\n",
    "    r.raise_for_status()\n",
    "    group_data = r.json()\n",
    "    print(group_data)"
   ]
  },
  {
   "cell_type": "markdown",
   "metadata": {},
   "source": [
    "Here we add users to the group."
   ]
  },
  {
   "cell_type": "code",
   "execution_count": null,
   "metadata": {},
   "outputs": [],
   "source": [
    "# First get some users.\n",
    "r = requests.get(api_url + '/users',\n",
    "    headers={\n",
    "             'Authorization': 'token %s' % token,\n",
    "            }\n",
    "    )\n",
    "\n",
    "r.raise_for_status()\n",
    "users = r.json()\n",
    "# Pick first five users and add them.\n",
    "group_users = [user[\"name\"] for user in users[:5]]\n",
    "r = requests.post(api_url + '/groups/' + GROUP_NAME + \"/users\",\n",
    "    headers={\n",
    "             'Authorization': 'token %s' % token,\n",
    "            },\n",
    "    json={\"users\": group_users}\n",
    "    )\n",
    "\n",
    "r.raise_for_status()\n",
    "group_result = r.json()\n",
    "print(group_result)"
   ]
  },
  {
   "cell_type": "markdown",
   "metadata": {},
   "source": [
    "Here we get the contents of the group."
   ]
  },
  {
   "cell_type": "code",
   "execution_count": null,
   "metadata": {},
   "outputs": [],
   "source": [
    "r = requests.get(api_url + '/groups/' + GROUP_NAME,\n",
    "    headers={\n",
    "             'Authorization': 'token %s' % token,\n",
    "            }\n",
    "    )\n",
    "\n",
    "r.raise_for_status()\n",
    "group_data = r.json()\n",
    "users_in_group = group_data[\"users\"]\n",
    "print(users_in_group)"
   ]
  },
  {
   "cell_type": "markdown",
   "metadata": {},
   "source": [
    "Here we delete the first user in the group."
   ]
  },
  {
   "cell_type": "code",
   "execution_count": null,
   "metadata": {},
   "outputs": [],
   "source": [
    "r = requests.delete(api_url + '/groups/' + GROUP_NAME + '/users',\n",
    "    headers={\n",
    "             'Authorization': 'token %s' % token,\n",
    "            },\n",
    "    json={\"users\": users_in_group[0:1]}\n",
    "    )\n",
    "\n",
    "r.raise_for_status()\n",
    "group_data = r.json()\n",
    "users_in_group = group_data[\"users\"]\n",
    "print(users_in_group)"
   ]
  },
  {
   "cell_type": "markdown",
   "metadata": {},
   "source": [
    "Here we delete the group."
   ]
  },
  {
   "cell_type": "code",
   "execution_count": null,
   "metadata": {},
   "outputs": [],
   "source": [
    "r = requests.delete(api_url + '/groups/' + GROUP_NAME,\n",
    "    headers={\n",
    "             'Authorization': 'token %s' % token,\n",
    "            }\n",
    "    )\n",
    "\n",
    "r.raise_for_status()\n",
    "#delete_result = r.json()\n",
    "#print(delete_result)"
   ]
  }
 ],
 "metadata": {
  "kernelspec": {
   "display_name": "Python 3",
   "language": "python",
   "name": "python3"
  },
  "language_info": {
   "codemirror_mode": {
    "name": "ipython",
    "version": 3
   },
   "file_extension": ".py",
   "mimetype": "text/x-python",
   "name": "python",
   "nbconvert_exporter": "python",
   "pygments_lexer": "ipython3",
   "version": "3.7.3"
  }
 },
 "nbformat": 4,
 "nbformat_minor": 4
}
