{
 "cells": [
  {
   "cell_type": "markdown",
   "metadata": {},
   "source": [
    "# Jupyterhub API Tasks\n",
    "The first step is to make the user that you're working with an admin, or else you will receive a 403 - Forbidden error when attempting to make some requests."
   ]
  },
  {
   "cell_type": "code",
   "execution_count": null,
   "metadata": {},
   "outputs": [],
   "source": [
    "# We reuse the token from the one we're using for the server.\n",
    "token = os.getenv(\"JUPYTERHUB_API_TOKEN\")"
   ]
  },
  {
   "cell_type": "markdown",
   "metadata": {},
   "source": [
    "Here we run an unauthenticated test, this should work if there are no issues in the configuration of the JupyterHub server. Note that this is an internal IP, so this _must_ be run on a JupyterHub instance."
   ]
  },
  {
   "cell_type": "code",
   "execution_count": null,
   "metadata": {},
   "outputs": [],
   "source": [
    "import requests\n",
    "import urllib3\n",
    "import os\n",
    "\n",
    "URL_VAR = \"JUPYTERHUB_API_URL\"\n",
    "api_url = os.getenv(URL_VAR)\n",
    "r = requests.get(api_url + \"/\")\n",
    "\n",
    "version = r.json()\n",
    "print(version)"
   ]
  },
  {
   "cell_type": "markdown",
   "metadata": {},
   "source": [
    "Here we run get some information about the token we've used to authenticate the request."
   ]
  },
  {
   "cell_type": "code",
   "execution_count": null,
   "metadata": {},
   "outputs": [],
   "source": [
    "r = requests.get(api_url + '/authorizations/token/' + token,\n",
    "    headers={\n",
    "             'Authorization': 'token %s' % token,\n",
    "            }, verify=False\n",
    "    )\n",
    "\n",
    "r.raise_for_status()\n",
    "token_data = r.json()\n",
    "print(token_data)"
   ]
  },
  {
   "cell_type": "markdown",
   "metadata": {},
   "source": [
    "Next, make the request, here we request all users."
   ]
  },
  {
   "cell_type": "code",
   "execution_count": null,
   "metadata": {},
   "outputs": [],
   "source": [
    "r = requests.get(api_url + '/users',\n",
    "    headers={\n",
    "             'Authorization': 'token %s' % token,\n",
    "            }, verify=False\n",
    "    )\n",
    "\n",
    "r.raise_for_status()\n",
    "users = r.json()"
   ]
  }
 ],
 "metadata": {
  "kernelspec": {
   "display_name": "Python 3",
   "language": "python",
   "name": "python3"
  },
  "language_info": {
   "codemirror_mode": {
    "name": "ipython",
    "version": 3
   },
   "file_extension": ".py",
   "mimetype": "text/x-python",
   "name": "python",
   "nbconvert_exporter": "python",
   "pygments_lexer": "ipython3",
   "version": "3.7.3"
  }
 },
 "nbformat": 4,
 "nbformat_minor": 4
}
